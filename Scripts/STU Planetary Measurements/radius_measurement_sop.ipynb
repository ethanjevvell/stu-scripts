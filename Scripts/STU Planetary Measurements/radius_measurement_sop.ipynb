{
 "cells": [
  {
   "cell_type": "code",
   "execution_count": 54,
   "metadata": {},
   "outputs": [],
   "source": [
    "import numpy as np\n",
    "import itertools\n",
    "import math\n",
    "\n",
    "CELESTIAL_BODIES = {}\n",
    "\n",
    "def createPlanetaryNode(world_position, world_gravity_vector):\n",
    "  return {\n",
    "    \"world_position\": world_position,\n",
    "    \"world_gravity_vector\": world_gravity_vector\n",
    "  }\n"
   ]
  },
  {
   "cell_type": "code",
   "execution_count": 37,
   "metadata": {},
   "outputs": [],
   "source": [
    "def findRadiusFromNodePair(site1, site2):\n",
    "  site1WorldPosition, site1GravityVector = site1[\"world_position\"], site1[\"world_gravity_vector\"]\n",
    "  site2WorldPosition, site2GravityVector = site2[\"world_position\"], site2[\"world_gravity_vector\"]\n",
    "  site1GravityMagnitude = np.linalg.norm(site1GravityVector)\n",
    "  site2GravityMagnitude = np.linalg.norm(site2GravityVector)\n",
    "  theta = math.acos(np.dot(site1GravityVector, site2GravityVector) / (site1GravityMagnitude * site2GravityMagnitude))\n",
    "  planetaryChord = np.linalg.norm(site2WorldPosition - site1WorldPosition)\n",
    "  return planetaryChord / (2 * math.sin(theta / 2))"
   ]
  },
  {
   "cell_type": "code",
   "execution_count": 38,
   "metadata": {},
   "outputs": [],
   "source": [
    "def getAveragePlanetaryRadius(planetNodes):\n",
    "  radiiSum = 0;\n",
    "  for nodePair in planetNodes:\n",
    "    site1 = nodePair[0]\n",
    "    site2 = nodePair[1]\n",
    "    radiiSum += findRadiusFromNodePair(site1, site2)\n",
    "\n",
    "  return (radiiSum / len(planetNodes))"
   ]
  },
  {
   "cell_type": "code",
   "execution_count": 47,
   "metadata": {},
   "outputs": [],
   "source": [
    "def findPlanetCenter(nodes, planet_radius):\n",
    "  planet_center_points = []\n",
    "  for node in nodes:\n",
    "    surface_point, gravity_vector = node[\"world_position\"], node[\"world_gravity_vector\"]\n",
    "    gravity_direction = gravity_vector / np.linalg.norm(gravity_vector)\n",
    "    planet_center_points.append(surface_point + gravity_direction * planet_radius)\n",
    "\n",
    "  return np.mean(planet_center_points, axis=0)"
   ]
  },
  {
   "cell_type": "code",
   "execution_count": 52,
   "metadata": {},
   "outputs": [],
   "source": [
    "def createNodeCombinations(nodes):\n",
    "  return list(itertools.combinations(nodes, 2))"
   ]
  },
  {
   "cell_type": "code",
   "execution_count": 85,
   "metadata": {},
   "outputs": [],
   "source": [
    "def printPlanetData():\n",
    "  for body in CELESTIAL_BODIES.keys():\n",
    "    radius = f'{CELESTIAL_BODIES[body][\"Radius\"]:.2f} m'\n",
    "    center = CELESTIAL_BODIES[body][\"Center\"]\n",
    "    center = f'X: {center[0]:.2f},\\n\\t\\tY: {center[1]:.2f},\\n\\t\\tZ: {center[2]:.2f}'\n",
    "    print(f'{body.upper()}\\n\\tRadius: {radius}\\n\\tCenter: {center}\\n\\n')"
   ]
  },
  {
   "cell_type": "markdown",
   "metadata": {},
   "source": [
    "# Node measurements\n",
    "We treat every observation side as a \"node\" on the planet's surface. After you've set up an observation site and gotten the gravity vectors in terms of the world frame (`.GetNaturalGravity()`), add the measurements here as a node, which you can create with `createPlanetaryNode()`. Then be sure to add it to `NodePairs`, which will generate a list of all possible combinations of nodes for calculating an average planetary radius"
   ]
  },
  {
   "cell_type": "markdown",
   "metadata": {},
   "source": [
    "### Luna"
   ]
  },
  {
   "cell_type": "code",
   "execution_count": 55,
   "metadata": {},
   "outputs": [],
   "source": [
    "N1WorldPosition = np.array([18432.8461518069, 127469.254487969, -115597.916994073])\n",
    "N1GravityVector = np.array([-0.536713182926178, 2.33599662780762, 0.519438207149506])\n",
    "N1 = createPlanetaryNode(N1WorldPosition, N1GravityVector)\n",
    "\n",
    "N2GravityVector = np.array([-2.34233498573303, 0.725529134273529, 0.0427983030676842])\n",
    "N2WorldPosition = np.array([25417.4346655508, 133586.583770117, -113780.546531812])\n",
    "N2 = createPlanetaryNode(N2WorldPosition, N2GravityVector)\n",
    "\n",
    "N3GravityVector = np.array([-1.78180503845215, 0.683731496334076, 1.54027235507965])\n",
    "N3WorldPosition = np.array([23316.4328305733, 133724.51160263, -119607.773866938])\n",
    "N3 = createPlanetaryNode(N3WorldPosition, N3GravityVector)\n",
    "\n",
    "LunaNodes = [N1, N2, N3]\n",
    "LunaNodeCombinations = createNodeCombinations(LunaNodes)\n",
    "LunaRadius = getAveragePlanetaryRadius(LunaNodeCombinations)\n",
    "LunaCenter = findPlanetCenter(LunaNodes, LunaRadius)\n",
    "\n",
    "Luna = {\n",
    "  \"Radius\": LunaRadius,\n",
    "  \"Center\": LunaCenter\n",
    "}\n",
    "\n",
    "CELESTIAL_BODIES[\"Luna\"] = Luna"
   ]
  },
  {
   "cell_type": "code",
   "execution_count": 56,
   "metadata": {},
   "outputs": [
    {
     "data": {
      "text/plain": [
       "{'Luna': {'Radius': 9453.84391041862,\n",
       "  'Center': array([  16400.0530046 ,  136405.82841528, -113627.17741361])}}"
      ]
     },
     "execution_count": 56,
     "metadata": {},
     "output_type": "execute_result"
    }
   ],
   "source": [
    "CELESTIAL_BODIES"
   ]
  },
  {
   "cell_type": "code",
   "execution_count": 86,
   "metadata": {},
   "outputs": [
    {
     "name": "stdout",
     "output_type": "stream",
     "text": [
      "LUNA\n",
      "\tRadius: 9453.84 m\n",
      "\tCenter: X: 16400.05,\n",
      "\t\tY: 136405.83,\n",
      "\t\tZ: -113627.18\n",
      "\n",
      "\n"
     ]
    }
   ],
   "source": [
    "printPlanetData()"
   ]
  },
  {
   "cell_type": "code",
   "execution_count": null,
   "metadata": {},
   "outputs": [],
   "source": []
  }
 ],
 "metadata": {
  "kernelspec": {
   "display_name": "STU_Planetary_Measurements-3QFidQbz",
   "language": "python",
   "name": "python3"
  },
  "language_info": {
   "codemirror_mode": {
    "name": "ipython",
    "version": 3
   },
   "file_extension": ".py",
   "mimetype": "text/x-python",
   "name": "python",
   "nbconvert_exporter": "python",
   "pygments_lexer": "ipython3",
   "version": "3.10.11"
  }
 },
 "nbformat": 4,
 "nbformat_minor": 2
}
