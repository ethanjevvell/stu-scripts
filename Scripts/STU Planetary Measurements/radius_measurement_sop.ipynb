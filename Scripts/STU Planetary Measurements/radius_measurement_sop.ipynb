{
 "cells": [
  {
   "cell_type": "code",
   "execution_count": 1,
   "metadata": {},
   "outputs": [],
   "source": [
    "import numpy as np\n",
    "import itertools\n",
    "import math"
   ]
  },
  {
   "cell_type": "markdown",
   "metadata": {},
   "source": [
    "# Node measurements\n",
    "We treat every observation side as a \"node\" on the planet's surface. After you've set up an observation site and gotten the gravity vectors in terms of the world frame (`.GetNaturalGravity()`), add the measurements here as a node, which is a tuple of the shape `(nodeGravityVector, nodeWorldPosition)`. Then be sure to add it to `NodePairs`, which will generate a list of all possible combinations of nodes for calculating an average planetary radius"
   ]
  },
  {
   "cell_type": "markdown",
   "metadata": {},
   "source": [
    "### Luna"
   ]
  },
  {
   "cell_type": "code",
   "execution_count": 26,
   "metadata": {},
   "outputs": [],
   "source": [
    "N1GravityVector = np.array([\n",
    "-0.536713182926178 , 2.33599662780762 , 0.519438207149506\n",
    "])\n",
    "\n",
    "N1WorldPosition = np.array([\n",
    "  18432.8461518069, 127469.254487969, -115597.916994073\n",
    "])\n",
    "\n",
    "N1 = (N1GravityVector, N1WorldPosition)\n",
    "\n",
    "N2GravityVector = np.array([\n",
    "-2.34233498573303 , 0.725529134273529 , 0.0427983030676842\n",
    "\n",
    "])\n",
    "\n",
    "N2WorldPosition = np.array([\n",
    "  25417.4346655508, 133586.583770117, -113780.546531812\n",
    "])\n",
    "\n",
    "N2 = (N2GravityVector, N2WorldPosition)\n",
    "\n",
    "N3GravityVector = np.array([\n",
    "-1.78180503845215 , 0.683731496334076 , 1.54027235507965\n",
    "])\n",
    "\n",
    "N3WorldPosition = np.array([\n",
    " 23316.4328305733 , 133724.51160263 , -119607.773866938\n",
    "])\n",
    "\n",
    "N3 = (N3GravityVector, N3WorldPosition)\n",
    "\n",
    "LunaNodes = list(itertools.combinations([N1, N2, N3], 2))"
   ]
  },
  {
   "cell_type": "code",
   "execution_count": 22,
   "metadata": {},
   "outputs": [],
   "source": [
    "def findRadiusFromNodePair(site1, site2):\n",
    "  site1GravityVector, site1WorldPosition = site1[0], site1[1]\n",
    "  site2GravityVector, site2WorldPosition = site2[0], site2[1]\n",
    "  site1GravityMagnitude = np.linalg.norm(site1GravityVector)\n",
    "  site2GravityMagnitude = np.linalg.norm(site2GravityVector)\n",
    "  theta = math.acos(np.dot(site1GravityVector, site2GravityVector) / (site1GravityMagnitude * site2GravityMagnitude))\n",
    "  planetaryChord = np.linalg.norm(site2WorldPosition - site1WorldPosition)\n",
    "  return planetaryChord / (2 * math.sin(theta / 2))"
   ]
  },
  {
   "cell_type": "code",
   "execution_count": 27,
   "metadata": {},
   "outputs": [],
   "source": [
    "def getAveragePlanetaryRadius(planetNodes):\n",
    "  radiiSum = 0;\n",
    "  for nodePair in planetNodes:\n",
    "    site1 = nodePair[0]\n",
    "    site2 = nodePair[1]\n",
    "    radiiSum += findRadiusFromNodePair(site1, site2)\n",
    "\n",
    "  print(radiiSum / len(planetNodes))"
   ]
  },
  {
   "cell_type": "code",
   "execution_count": 28,
   "metadata": {},
   "outputs": [
    {
     "name": "stdout",
     "output_type": "stream",
     "text": [
      "9453.84391041862\n"
     ]
    }
   ],
   "source": [
    "planetaryRadius = getAveragePlanetaryRadius(LunaNodes)\n",
    "planetaryRadius"
   ]
  },
  {
   "cell_type": "code",
   "execution_count": null,
   "metadata": {},
   "outputs": [],
   "source": []
  }
 ],
 "metadata": {
  "kernelspec": {
   "display_name": "STU_Planetary_Measurements-3QFidQbz",
   "language": "python",
   "name": "python3"
  },
  "language_info": {
   "codemirror_mode": {
    "name": "ipython",
    "version": 3
   },
   "file_extension": ".py",
   "mimetype": "text/x-python",
   "name": "python",
   "nbconvert_exporter": "python",
   "pygments_lexer": "ipython3",
   "version": "3.10.11"
  }
 },
 "nbformat": 4,
 "nbformat_minor": 2
}
