{
 "cells": [
  {
   "cell_type": "code",
   "execution_count": 2,
   "metadata": {},
   "outputs": [],
   "source": [
    "import numpy as np\n",
    "import itertools\n",
    "import math\n",
    "\n",
    "CELESTIAL_BODIES = {}\n",
    "\n",
    "def createPlanetaryNode(world_position, world_gravity_vector):\n",
    "  return {\n",
    "    \"world_position\": world_position,\n",
    "    \"world_gravity_vector\": world_gravity_vector\n",
    "  }\n"
   ]
  },
  {
   "cell_type": "code",
   "execution_count": 3,
   "metadata": {},
   "outputs": [],
   "source": [
    "def findRadiusFromNodePair(site1, site2):\n",
    "  site1WorldPosition, site1GravityVector = site1[\"world_position\"], site1[\"world_gravity_vector\"]\n",
    "  site2WorldPosition, site2GravityVector = site2[\"world_position\"], site2[\"world_gravity_vector\"]\n",
    "  site1GravityMagnitude = np.linalg.norm(site1GravityVector)\n",
    "  site2GravityMagnitude = np.linalg.norm(site2GravityVector)\n",
    "  theta = math.acos(np.dot(site1GravityVector, site2GravityVector) / (site1GravityMagnitude * site2GravityMagnitude))\n",
    "  planetaryChord = np.linalg.norm(site2WorldPosition - site1WorldPosition)\n",
    "  return planetaryChord / (2 * math.sin(theta / 2))"
   ]
  },
  {
   "cell_type": "code",
   "execution_count": 4,
   "metadata": {},
   "outputs": [],
   "source": [
    "def getAveragePlanetaryRadius(planetNodes):\n",
    "  radiiSum = 0;\n",
    "  for nodePair in planetNodes:\n",
    "    site1 = nodePair[0]\n",
    "    site2 = nodePair[1]\n",
    "    radiiSum += findRadiusFromNodePair(site1, site2)\n",
    "\n",
    "  return (radiiSum / len(planetNodes))"
   ]
  },
  {
   "cell_type": "code",
   "execution_count": 5,
   "metadata": {},
   "outputs": [],
   "source": [
    "def findPlanetCenter(nodes, planet_radius):\n",
    "  planet_center_points = []\n",
    "  for node in nodes:\n",
    "    surface_point, gravity_vector = node[\"world_position\"], node[\"world_gravity_vector\"]\n",
    "    gravity_direction = gravity_vector / np.linalg.norm(gravity_vector)\n",
    "    planet_center_points.append(surface_point + gravity_direction * planet_radius)\n",
    "\n",
    "  return np.mean(planet_center_points, axis=0)"
   ]
  },
  {
   "cell_type": "code",
   "execution_count": 6,
   "metadata": {},
   "outputs": [],
   "source": [
    "def createNodeCombinations(nodes):\n",
    "  return list(itertools.combinations(nodes, 2))"
   ]
  },
  {
   "cell_type": "code",
   "execution_count": 7,
   "metadata": {},
   "outputs": [],
   "source": [
    "def printPlanetData():\n",
    "  for body in CELESTIAL_BODIES.keys():\n",
    "    radius = f'{CELESTIAL_BODIES[body][\"Radius\"]:.2f} m'\n",
    "    center = CELESTIAL_BODIES[body][\"Center\"]\n",
    "    center = f'X: {center[0]:.2f},\\n\\t\\tY: {center[1]:.2f},\\n\\t\\tZ: {center[2]:.2f}'\n",
    "    print(f'{body.upper()}\\n\\tRadius: {radius}\\n\\tCenter: {center}\\n\\n')"
   ]
  },
  {
   "cell_type": "markdown",
   "metadata": {},
   "source": [
    "# Node measurements\n",
    "We treat every observation side as a \"node\" on the planet's surface. After you've set up an observation site and gotten the gravity vectors in terms of the world frame (`.GetNaturalGravity()`), add the measurements here as a node, which you can create with `createPlanetaryNode()`. Then be sure to add it to `NodePairs`, which will generate a list of all possible combinations of nodes for calculating an average planetary radius"
   ]
  },
  {
   "cell_type": "markdown",
   "metadata": {},
   "source": [
    "### Luna"
   ]
  },
  {
   "cell_type": "code",
   "execution_count": 8,
   "metadata": {},
   "outputs": [],
   "source": [
    "N1WorldPosition = np.array([18432.8461518069, 127469.254487969, -115597.916994073])\n",
    "N1GravityVector = np.array([-0.536713182926178, 2.33599662780762, 0.519438207149506])\n",
    "N1 = createPlanetaryNode(N1WorldPosition, N1GravityVector)\n",
    "\n",
    "N2GravityVector = np.array([-2.34233498573303, 0.725529134273529, 0.0427983030676842])\n",
    "N2WorldPosition = np.array([25417.4346655508, 133586.583770117, -113780.546531812])\n",
    "N2 = createPlanetaryNode(N2WorldPosition, N2GravityVector)\n",
    "\n",
    "N3GravityVector = np.array([-1.78180503845215, 0.683731496334076, 1.54027235507965])\n",
    "N3WorldPosition = np.array([23316.4328305733, 133724.51160263, -119607.773866938])\n",
    "N3 = createPlanetaryNode(N3WorldPosition, N3GravityVector)\n",
    "\n",
    "LunaNodes = [N1, N2, N3]\n",
    "LunaNodeCombinations = createNodeCombinations(LunaNodes)\n",
    "LunaRadius = getAveragePlanetaryRadius(LunaNodeCombinations)\n",
    "LunaCenter = findPlanetCenter(LunaNodes, LunaRadius)\n",
    "\n",
    "Luna = {\n",
    "  \"Radius\": LunaRadius,\n",
    "  \"Center\": LunaCenter\n",
    "}\n",
    "\n",
    "CELESTIAL_BODIES[\"Luna\"] = Luna"
   ]
  },
  {
   "cell_type": "markdown",
   "metadata": {},
   "source": [
    "### Test Earth (Ethan private world)"
   ]
  },
  {
   "cell_type": "code",
   "execution_count": 11,
   "metadata": {},
   "outputs": [],
   "source": [
    "N1WorldPosition = np.array([-60426.14, -7911.85, 3859.90])\n",
    "N1GravityVector = np.array([9.70751, 1.27111, -0.620001])\n",
    "N1 = createPlanetaryNode(N1WorldPosition, N1GravityVector)\n",
    "\n",
    "N2WorldPosition = np.array([-56321.4428, 18412.56020, 14637.31472])\n",
    "N2GravityVector = np.array([9.052324, -2.95927, -2.35249])\n",
    "N2 = createPlanetaryNode(N2WorldPosition, N2GravityVector)\n",
    "\n",
    "TestEarthNodes = [N1, N2]\n",
    "TestEarthNodeCombinations = createNodeCombinations(TestEarthNodes)\n",
    "TestEarthRadius = getAveragePlanetaryRadius(TestEarthNodeCombinations)\n",
    "TestEarthCenter = findPlanetCenter(TestEarthNodes, TestEarthRadius)\n",
    "\n",
    "TestEarth = {\n",
    "  \"Radius\": TestEarthRadius,\n",
    "  \"Center\": TestEarthCenter\n",
    "}\n",
    "\n",
    "CELESTIAL_BODIES[\"TestEarth\"] = TestEarth"
   ]
  },
  {
   "cell_type": "code",
   "execution_count": 1,
   "metadata": {},
   "outputs": [
    {
     "ename": "NameError",
     "evalue": "name 'np' is not defined",
     "output_type": "error",
     "traceback": [
      "\u001b[1;31m---------------------------------------------------------------------------\u001b[0m",
      "\u001b[1;31mNameError\u001b[0m                                 Traceback (most recent call last)",
      "Cell \u001b[1;32mIn[1], line 1\u001b[0m\n\u001b[1;32m----> 1\u001b[0m N1WorldPosition \u001b[38;5;241m=\u001b[39m \u001b[43mnp\u001b[49m\u001b[38;5;241m.\u001b[39marray([\u001b[38;5;241m996017\u001b[39m, \u001b[38;5;241m99900\u001b[39m, \u001b[38;5;241m1672962\u001b[39m])\n\u001b[0;32m      2\u001b[0m N1GravityVector \u001b[38;5;241m=\u001b[39m np\u001b[38;5;241m.\u001b[39marray([\u001b[38;5;241m4.921176\u001b[39m, \u001b[38;5;241m4.376121\u001b[39m, \u001b[38;5;241m-\u001b[39m\u001b[38;5;241m5.880717\u001b[39m])\n\u001b[0;32m      3\u001b[0m N1 \u001b[38;5;241m=\u001b[39m createPlanetaryNode(N1WorldPosition, N1GravityVector)\n",
      "\u001b[1;31mNameError\u001b[0m: name 'np' is not defined"
     ]
    }
   ],
   "source": [
    "N1WorldPosition = np.array([996017, 99900, 1672962])\n",
    "N1GravityVector = np.array([4.921176, 4.376121, -5.880717])\n",
    "N1 = createPlanetaryNode(N1WorldPosition, N1GravityVector)\n",
    "\n",
    "N2WorldPosition = np.array([1007854, 78361, 1606465])\n",
    "N2GravityVector = np.array([3.272860, 7.430247, 3.468580])\n",
    "N2 = createPlanetaryNode(N2WorldPosition, N2GravityVector)\n",
    "\n",
    "TestMarsNodes = [N1, N2]\n",
    "TestMarsNodesCombinations = createNodeCombinations(TestMarsNodes)\n",
    "TestMarsRadius = getAveragePlanetaryRadius(TestMarsNodesCombinations)\n",
    "TestMarsCenter = findPlanetCenter(TestMarsNodes, TestMarsRadius)\n",
    "\n",
    "TestMars = {\n",
    "  \"Radius\": TestMarsRadius,\n",
    "  \"Center\": TestMarsCenter\n",
    "}\n",
    "\n",
    "CELESTIAL_BODIES[\"TestMars\"] = TestEarth"
   ]
  },
  {
   "cell_type": "code",
   "execution_count": 12,
   "metadata": {},
   "outputs": [
    {
     "data": {
      "text/plain": [
       "{'Luna': {'Radius': 9453.84391041862,\n",
       "  'Center': array([  16400.0530046 ,  136405.82841528, -113627.17741361])},\n",
       " 'TestEarth': {'Radius': 61050.39453391047,\n",
       "  'Center': array([ 0.11731971, -2.58994105, -0.72110444])}}"
      ]
     },
     "execution_count": 12,
     "metadata": {},
     "output_type": "execute_result"
    }
   ],
   "source": [
    "CELESTIAL_BODIES"
   ]
  },
  {
   "cell_type": "code",
   "execution_count": 86,
   "metadata": {},
   "outputs": [
    {
     "name": "stdout",
     "output_type": "stream",
     "text": [
      "LUNA\n",
      "\tRadius: 9453.84 m\n",
      "\tCenter: X: 16400.05,\n",
      "\t\tY: 136405.83,\n",
      "\t\tZ: -113627.18\n",
      "\n",
      "\n"
     ]
    }
   ],
   "source": [
    "printPlanetData()"
   ]
  },
  {
   "cell_type": "code",
   "execution_count": null,
   "metadata": {},
   "outputs": [],
   "source": []
  }
 ],
 "metadata": {
  "kernelspec": {
   "display_name": "STU_Planetary_Measurements-3QFidQbz",
   "language": "python",
   "name": "python3"
  },
  "language_info": {
   "codemirror_mode": {
    "name": "ipython",
    "version": 3
   },
   "file_extension": ".py",
   "mimetype": "text/x-python",
   "name": "python",
   "nbconvert_exporter": "python",
   "pygments_lexer": "ipython3",
   "version": "3.10.11"
  }
 },
 "nbformat": 4,
 "nbformat_minor": 2
}
