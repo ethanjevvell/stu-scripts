{
 "cells": [
  {
   "cell_type": "code",
   "execution_count": 3,
   "metadata": {},
   "outputs": [],
   "source": [
    "import math\n",
    "import numpy as np"
   ]
  },
  {
   "cell_type": "code",
   "execution_count": 4,
   "metadata": {},
   "outputs": [],
   "source": [
    "def printPoints(vectors):\n",
    "    formatted_vectors = []\n",
    "    for vector in vectors:\n",
    "        formatted_vector = []\n",
    "        for value in vector:\n",
    "            if value == int(value):\n",
    "                formatted_vector.append(f\"{int(value)}\")\n",
    "            else:\n",
    "                formatted_vector.append(f\"{value:.2f}\")\n",
    "        formatted_vectors.append(f\"({', '.join(formatted_vector)})\")\n",
    "\n",
    "    print('Copy and paste the following directly into Desmos:')\n",
    "    for ind, vector in enumerate(formatted_vectors):\n",
    "      print(f'O_{ind} = {vector}')"
   ]
  },
  {
   "cell_type": "code",
   "execution_count": 62,
   "metadata": {},
   "outputs": [],
   "source": [
    "def generate_points_on_plane(center, radius, point_a, point_b, num_points):\n",
    "    # Convert points to numpy arrays\n",
    "    center = np.array(center)\n",
    "    point_a = np.array(point_a)\n",
    "    point_b = np.array(point_b)\n",
    "\n",
    "    # Calculate vectors CA and CB\n",
    "    vec_ca = point_a - center\n",
    "    vec_cb = point_b - center\n",
    "\n",
    "    # Normal vector of the plane (cross product of CA and CB)\n",
    "    normal = np.cross(vec_ca, vec_cb)\n",
    "\n",
    "    # Find one basis vector on the plane (cross product of normal and CA)\n",
    "    u = vec_ca / np.linalg.norm(vec_ca)  # Normalize\n",
    "\n",
    "    # Find another basis vector on the plane (cross product of normal and U)\n",
    "    v = np.cross(normal, u)\n",
    "    v = v / np.linalg.norm(v)  # Normalize\n",
    "\n",
    "    # Circle's radius\n",
    "    circle_radius = 2 * radius\n",
    "\n",
    "    # Generate points on the circle\n",
    "    points = []\n",
    "    for i in range(num_points):\n",
    "        theta = 2 * np.pi * i / num_points\n",
    "        point = center + circle_radius * (np.cos(theta) * u + np.sin(theta) * v)\n",
    "        points.append(np.round(point, 2))\n",
    "\n",
    "    return np.array(points)\n"
   ]
  },
  {
   "cell_type": "code",
   "execution_count": 63,
   "metadata": {},
   "outputs": [],
   "source": [
    "def createPointOnSphere(center, radius, theta, phi):\n",
    "  h, k, l = center[0], center[1], center[2]\n",
    "  x_1 = h + radius * math.sin(theta) * math.cos(phi)\n",
    "  y_1 = k + radius * math.sin(theta) * math.sin(phi)\n",
    "  z_1 = l + radius * math.cos(theta)\n",
    "  return (x_1, y_1, z_1)"
   ]
  },
  {
   "cell_type": "code",
   "execution_count": 90,
   "metadata": {},
   "outputs": [
    {
     "name": "stdout",
     "output_type": "stream",
     "text": [
      "Copy and paste the following directly into Desmos:\n",
      "O_0 = (20, 0, 0)\n",
      "O_1 = (14.14, -14.14, 0)\n",
      "O_2 = (0, -20, 0)\n",
      "O_3 = (-14.14, -14.14, 0)\n",
      "O_4 = (-20, 0, 0)\n",
      "O_5 = (-14.14, 14.14, 0)\n",
      "O_6 = (0, 20, 0)\n",
      "O_7 = (14.14, 14.14, 0)\n"
     ]
    }
   ],
   "source": [
    "center = (0,0,0)  # Center of the sphere\n",
    "radius = 10  # Radius of the sphere\n",
    "point_a = createPointOnSphere(center, radius, np.pi / 2, 0)\n",
    "point_b = createPointOnSphere(center, radius, np.pi / 2, 4.87)\n",
    "num_points = 8  # Number of points to generate\n",
    "\n",
    "# Generate the points\n",
    "points_on_plane = generate_points_on_plane(center, radius, point_a, point_b, num_points)\n",
    "printPoints(points_on_plane)"
   ]
  },
  {
   "cell_type": "code",
   "execution_count": 91,
   "metadata": {},
   "outputs": [],
   "source": [
    "def pointIsEqualToEither(point, target_one, target_two):\n",
    "  return np.array_equal(point, target_one) or np.array_equal(point, target_two)"
   ]
  },
  {
   "cell_type": "code",
   "execution_count": 92,
   "metadata": {},
   "outputs": [],
   "source": [
    "def findShortestPath(path_a, path_b, target_one, target_two):\n",
    "  for ind in range(0, len(path_a)):\n",
    "    if pointIsEqualToEither(path_a[ind], target_one, target_two):\n",
    "      return path_a[:ind + 1]\n",
    "    if pointIsEqualToEither(path_b[ind], target_one, target_two):\n",
    "      return path_b[:ind + 1]"
   ]
  },
  {
   "cell_type": "code",
   "execution_count": 93,
   "metadata": {},
   "outputs": [],
   "source": [
    "# point_b should be the target point\n",
    "def findShortestFlightPath(target_point, points_on_plane):\n",
    "  # Get each point's distance from the target point and store as a tuple (point, distanceFromTarget)\n",
    "  orbital_point_distances_from_target = []\n",
    "  for point in points_on_plane:\n",
    "    orbital_point_distances_from_target.append((point, np.linalg.norm(target_point - point)))\n",
    "\n",
    "  # Sort keys from shortest distance to the target point to the furthest distance\n",
    "  sorted_distances = sorted(orbital_point_distances_from_target, key=lambda x: x[1])\n",
    "\n",
    "  # the points themselves\n",
    "  closest_point_to_target = sorted_distances[0][0]\n",
    "  second_closest_point_to_target = sorted_distances[1][0]\n",
    "  third_closest_point_to_target = sorted_distances[2][0]\n",
    "\n",
    "  # the points' distances from the target\n",
    "  second_closest_point_distance = sorted_distances[1][1]\n",
    "  third_closest_point_distance = sorted_distances[2][1]\n",
    "\n",
    "  path_a = points_on_plane\n",
    "  # create another list of points where the first point is the same but all others are reversed\n",
    "  path_b = points_on_plane[:1] + points_on_plane[-1:0:-1]\n",
    "\n",
    "  # Edge case: target point is almost directly below an orbital point, meaning the second and third closest points are equidistant from the target point\n",
    "  if abs(second_closest_point_distance - third_closest_point_distance) < 1e-6:\n",
    "    return findShortestPath(path_a, path_b, second_closest_point_to_target, third_closest_point_to_target)\n",
    "\n",
    "  return findShortestPath(path_a, path_b, closest_point_to_target, second_closest_point_to_target)"
   ]
  },
  {
   "cell_type": "code",
   "execution_count": 94,
   "metadata": {},
   "outputs": [
    {
     "data": {
      "text/plain": [
       "array([[ 20.  ,   0.  ,   0.  ],\n",
       "       [ 14.14, -14.14,   0.  ]])"
      ]
     },
     "execution_count": 94,
     "metadata": {},
     "output_type": "execute_result"
    }
   ],
   "source": [
    "findShortestFlightPath(point_b, points_on_plane)"
   ]
  },
  {
   "cell_type": "code",
   "execution_count": null,
   "metadata": {},
   "outputs": [],
   "source": []
  },
  {
   "cell_type": "code",
   "execution_count": null,
   "metadata": {},
   "outputs": [],
   "source": []
  }
 ],
 "metadata": {
  "kernelspec": {
   "display_name": "Python 3",
   "language": "python",
   "name": "python3"
  },
  "language_info": {
   "codemirror_mode": {
    "name": "ipython",
    "version": 3
   },
   "file_extension": ".py",
   "mimetype": "text/x-python",
   "name": "python",
   "nbconvert_exporter": "python",
   "pygments_lexer": "ipython3",
   "version": "3.10.11"
  }
 },
 "nbformat": 4,
 "nbformat_minor": 2
}
